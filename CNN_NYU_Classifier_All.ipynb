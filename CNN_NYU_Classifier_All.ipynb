{
 "cells": [
  {
   "cell_type": "code",
   "execution_count": 1,
   "metadata": {},
   "outputs": [
    {
     "name": "stderr",
     "output_type": "stream",
     "text": [
      "Using TensorFlow backend.\n",
      "/Users/saksham/anaconda3/lib/python3.7/site-packages/sklearn/cross_validation.py:41: DeprecationWarning: This module was deprecated in version 0.18 in favor of the model_selection module into which all the refactored classes and functions are moved. Also note that the interface of the new CV iterators are different from that of this module. This module will be removed in 0.20.\n",
      "  \"This module will be removed in 0.20.\", DeprecationWarning)\n"
     ]
    }
   ],
   "source": [
    "import numpy as np\n",
    "import librosa\n",
    "import librosa.display\n",
    "import librosa.feature\n",
    "import random\n",
    "import keras\n",
    "from keras.models import Sequential\n",
    "from keras.layers import Dense, Dropout, Flatten\n",
    "from keras.layers import Conv2D, MaxPooling2D\n",
    "from keras import backend as K\n",
    "import matplotlib.pyplot as plt\n",
    "import IPython.display as ipd\n",
    "import glob\n",
    "import os\n",
    "import pandas as pd\n",
    "import scipy\n",
    "from scipy import stats\n",
    "from sklearn.cross_validation import train_test_split\n",
    "from sklearn.svm import SVC\n",
    "from sklearn.metrics import confusion_matrix\n",
    "from sklearn.model_selection import validation_curve\n",
    "from sklearn.model_selection import KFold\n",
    "from sklearn.model_selection import cross_val_score\n",
    "from sklearn.model_selection import GridSearchCV\n",
    "import seaborn as sns\n",
    "import jams\n",
    "import matplotlib.lines as mlines\n",
    "import pickle\n",
    "import pprint"
   ]
  },
  {
   "cell_type": "markdown",
   "metadata": {},
   "source": [
    "<font size = 4> <b> Reading all files"
   ]
  },
  {
   "cell_type": "code",
   "execution_count": 2,
   "metadata": {},
   "outputs": [],
   "source": [
    "def path_gen(audio_paths, audio_type):\n",
    "    all_paths = []\n",
    "    for path in audio_paths:\n",
    "        audio = path.split('/')[3].split('_')[2]\n",
    "        if audio == audio_type:\n",
    "            all_paths.append(path)\n",
    "    return all_paths\n",
    "\n",
    "def save_pkl(data, output_filename):   \n",
    "    output = open(output_filename, 'wb')\n",
    "    pickle.dump(data, output)\n",
    "    output.close()\n",
    "\n",
    "def read_pkl(filename):\n",
    "    pkl_file = open(filename, 'rb')\n",
    "    data = pickle.load(pkl_file)\n",
    "    pkl_file.close()\n",
    "    return data"
   ]
  },
  {
   "cell_type": "code",
   "execution_count": 3,
   "metadata": {},
   "outputs": [],
   "source": [
    "# Generating paths to read all types of files\n",
    "audio_paths = glob.glob('GuitarSet/audio/audio_mic/*.wav')\n",
    "solo_paths = path_gen(audio_paths, 'solo')\n",
    "comp_paths = path_gen(audio_paths, 'comp')"
   ]
  },
  {
   "cell_type": "code",
   "execution_count": 4,
   "metadata": {},
   "outputs": [
    {
     "name": "stdout",
     "output_type": "stream",
     "text": [
      "180\n",
      "180\n"
     ]
    }
   ],
   "source": [
    "print (len(solo_paths))\n",
    "print (len(comp_paths))"
   ]
  },
  {
   "cell_type": "code",
   "execution_count": 5,
   "metadata": {},
   "outputs": [],
   "source": [
    "# Reading solo files separately (single mic, not hex pickup)\n",
    "solo_audio = []\n",
    "for path in solo_paths:\n",
    "    audio, sr = librosa.load(path)\n",
    "    solo_audio.append(audio)\n",
    "solo_audio = np.array(solo_audio)"
   ]
  },
  {
   "cell_type": "code",
   "execution_count": 6,
   "metadata": {},
   "outputs": [],
   "source": [
    "# Reading comp files separately (single mic, not hex pickup)\n",
    "comp_audio = []\n",
    "for path in comp_paths:\n",
    "    audio, sr = librosa.load(path)\n",
    "    comp_audio.append(audio)\n",
    "comp_audio = np.array(comp_audio)"
   ]
  },
  {
   "cell_type": "code",
   "execution_count": 26,
   "metadata": {},
   "outputs": [],
   "source": [
    "path = '/Volumes/Saksham - HD/Project/'\n",
    "save_pkl(solo_audio, path + 'solo_audio.pkl')"
   ]
  },
  {
   "cell_type": "code",
   "execution_count": 27,
   "metadata": {},
   "outputs": [],
   "source": [
    "data = read_pkl(path + 'comp_audio.pkl')"
   ]
  },
  {
   "cell_type": "code",
   "execution_count": 37,
   "metadata": {},
   "outputs": [],
   "source": []
  },
  {
   "cell_type": "code",
   "execution_count": null,
   "metadata": {},
   "outputs": [],
   "source": []
  },
  {
   "cell_type": "markdown",
   "metadata": {},
   "source": [
    "<font size = 4> <b> Clipping audio files"
   ]
  },
  {
   "cell_type": "code",
   "execution_count": 12,
   "metadata": {},
   "outputs": [],
   "source": [
    "def clip_audio(audio, dur, sr, start):\n",
    "    all_clips = []\n",
    "    clip_len = int(dur * sr)\n",
    "    pin = int(start * sr)\n",
    "    for clip in audio:\n",
    "        num_chunks = (len(clip)-pin)//clip_len\n",
    "        for i in np.arange(num_chunks):\n",
    "            clip_temp = clip[i*clip_len + pin:(i+1)*clip_len + pin]\n",
    "            all_clips.append(clip_temp)\n",
    "    all_clips = np.array(all_clips)\n",
    "    return all_clips\n",
    "\n",
    "def clip_QC(audio, dur, sr):\n",
    "    all_clips = np.array([])\n",
    "    clip_len = dur*sr\n",
    "    for clip in audio:\n",
    "        duration = len(clip)//clip_len\n",
    "        all_clips = np.append(all_clips, duration)\n",
    "    return int(np.sum(all_clips))\n",
    "\n",
    "def gen_labels(paths, audio, dur, sr, start):\n",
    "    clip_len = int(dur * sr)\n",
    "    pin = int(start * sr)\n",
    "    genres = np.array([])\n",
    "    i = 0\n",
    "    for clip in audio:\n",
    "        num_chunks = (len(clip)-pin)//clip_len\n",
    "        genre = paths[i].split('/')[-1].split('_')[1].split('-')[0][:-1]\n",
    "        for chunk in np.arange(num_chunks):\n",
    "            genres = np.append(genres, genre)\n",
    "        i += 1\n",
    "    return genres"
   ]
  },
  {
   "cell_type": "code",
   "execution_count": 13,
   "metadata": {},
   "outputs": [],
   "source": [
    "def gen_dataset(paths, audio, dur, num_sets, sr):\n",
    "    stride = float(dur)/num_sets\n",
    "    pin = np.arange(num_sets) * stride\n",
    "    clips_all = []\n",
    "    labels_all = []\n",
    "#     clips_all = np.array([])\n",
    "#     labels_all = np.array([])\n",
    "    for start in pin:\n",
    "        clips = clip_audio(audio, dur, sr, start)\n",
    "        clips_all.append(clips)\n",
    "#         clips_all = np.append(clips_all, clips)\n",
    "        labels = gen_labels(paths, audio, dur, sr, start)\n",
    "        labels_all.append(labels)\n",
    "#         labels_all = np.append(labels_all, labels)\n",
    "    \n",
    "    clips_all = np.array(clips_all)\n",
    "    labels_all = np.array(labels_all)\n",
    "    \n",
    "    all_clips = []\n",
    "    for clips in clips_all:\n",
    "        for clip in clips:\n",
    "            all_clips.append(clip)\n",
    "    all_clips = np.array(all_clips)\n",
    "    \n",
    "    all_labels = []\n",
    "    for labels in labels_all:\n",
    "        for label in labels:\n",
    "            all_labels.append(label)\n",
    "    all_labels = np.array(all_labels)    \n",
    "    \n",
    "    return all_clips, all_labels"
   ]
  },
  {
   "cell_type": "code",
   "execution_count": 14,
   "metadata": {},
   "outputs": [],
   "source": [
    "def gen_STFT(clips, n_fft, w, hop_length):\n",
    "    X = []\n",
    "    for clip in clips:\n",
    "        STFT = np.abs(librosa.stft(clip, n_fft=n_fft, hop_length=hop_length, window = w))\n",
    "        X.append(STFT)\n",
    "    X = np.array(X)\n",
    "    return X\n",
    "\n",
    "def gen_MelSpectrogram(clips, n_fft, sr, hop_length):\n",
    "    X = []\n",
    "    for clip in clips:\n",
    "        spect = librosa.feature.melspectrogram(y=clip, sr=sr,n_fft=n_fft, hop_length=hop_length, power = 2)\n",
    "        spect = librosa.power_to_db(spect, ref=np.max)\n",
    "        X.append(spect)\n",
    "    X = np.array(X)"
   ]
  },
  {
   "cell_type": "code",
   "execution_count": 15,
   "metadata": {},
   "outputs": [],
   "source": [
    "\"\"\"\n",
    "Setting up duration and num_sets.\n",
    "Duration is in seconds.\n",
    "num_sets is the number of times clip-cutting process should take place. (Finding more sets of 't' second clips in the\n",
    "audio by striding the starting point of clip)\n",
    "\"\"\"\n",
    "\n",
    "dur_1 = 1\n",
    "dur_2 = 2\n",
    "dur_3 = 3\n",
    "dur_4 = 4\n",
    "dur_5 = 5\n",
    "\n",
    "num_sets_1 = 5\n",
    "num_sets_2 = 5\n",
    "num_sets_3 = 5\n",
    "num_sets_4 = 5\n",
    "num_sets_5 = 5"
   ]
  },
  {
   "cell_type": "code",
   "execution_count": 16,
   "metadata": {},
   "outputs": [],
   "source": [
    "# Generating solo clips of various durations\n",
    "\n",
    "solo_clips_1, solo_labels_1 = gen_dataset(solo_paths, solo_audio, dur_1, num_sets_1, sr)\n",
    "# solo_clips_2, solo_labels_2 = gen_dataset(solo_paths, solo_audio, dur_2, num_sets_2, sr)\n",
    "# solo_clips_3, solo_labels_3 = gen_dataset(solo_paths, solo_audio, dur_3, num_sets_3, sr)\n",
    "# solo_clips_4, solo_labels_4 = gen_dataset(solo_paths, solo_audio, dur_4, num_sets_4, sr)\n",
    "# solo_clips_5, solo_labels_5 = gen_dataset(solo_paths, solo_audio, dur_5, num_sets_5, sr)"
   ]
  },
  {
   "cell_type": "code",
   "execution_count": 19,
   "metadata": {},
   "outputs": [],
   "source": [
    "# Generating comp clips of various durations\n",
    "\n",
    "comp_clips_1, comp_labels_1 = gen_dataset(comp_paths, comp_audio, dur_1, num_sets_1, sr)\n",
    "comp_clips_2, comp_labels_2 = gen_dataset(comp_paths, comp_audio, dur_2, num_sets_2, sr)\n",
    "comp_clips_3, comp_labels_3 = gen_dataset(comp_paths, comp_audio, dur_3, num_sets_3, sr)\n",
    "comp_clips_4, comp_labels_4 = gen_dataset(comp_paths, comp_audio, dur_4, num_sets_4, sr)\n",
    "comp_clips_5, comp_labels_5 = gen_dataset(comp_paths, comp_audio, dur_5, num_sets_5, sr)"
   ]
  },
  {
   "cell_type": "markdown",
   "metadata": {},
   "source": [
    "<font size = 4> <b> Generating spectogram and visual representation of audio"
   ]
  },
  {
   "cell_type": "code",
   "execution_count": 17,
   "metadata": {},
   "outputs": [],
   "source": [
    "# Parameters\n",
    "n_fft_1 = 2048\n",
    "n_fft_2 = 1024\n",
    "w_1 = np.hamming(n_fft_1)\n",
    "w_2 = np.hamming(n_fft_2)\n",
    "hop_length = int(0.01 * sr)"
   ]
  },
  {
   "cell_type": "markdown",
   "metadata": {},
   "source": [
    "<font size = 3> STFT (Solo)"
   ]
  },
  {
   "cell_type": "code",
   "execution_count": 18,
   "metadata": {},
   "outputs": [],
   "source": [
    "# STFT for 1s solo clips\n",
    "X_solo_100msSTFT_1 = gen_STFT(solo_clips_1, n_fft_1, w_1, hop_length)\n",
    "X_solo_50msSTFT_1 = gen_STFT(solo_clips_1, n_fft_2, w_2, hop_length)"
   ]
  },
  {
   "cell_type": "code",
   "execution_count": null,
   "metadata": {},
   "outputs": [],
   "source": [
    "X_solo_100msSTFT_1_v1 = X_solo_100msSTFT_1[:X_solo_100msSTFT_1.shape[0]//3, :, :]\n",
    "X_solo_100msSTFT_1_v2 = X_solo_100msSTFT_1[X_solo_100msSTFT_1.shape[0]//3:X_solo_100msSTFT_1.shape[0] * 2//3, :, :]\n",
    "X_solo_100msSTFT_1_v3 = X_solo_100msSTFT_1[X_solo_100msSTFT_1.shape[0] * 2//3:, :, :]"
   ]
  },
  {
   "cell_type": "code",
   "execution_count": 48,
   "metadata": {},
   "outputs": [
    {
     "data": {
      "text/plain": [
       "(8872, 1025, 101)"
      ]
     },
     "execution_count": 48,
     "metadata": {},
     "output_type": "execute_result"
    }
   ],
   "source": [
    "X_solo_100msSTFT_1_v1.shape"
   ]
  },
  {
   "cell_type": "code",
   "execution_count": 54,
   "metadata": {},
   "outputs": [],
   "source": [
    "def save_txt(data, filename):\n",
    "\n",
    "    # Write the array to disk\n",
    "    with open(filename, 'w') as outfile:\n",
    "        outfile.write('# Array shape: {0}\\n'.format(data.shape))\n",
    "\n",
    "        # Iterating through a ndimensional array produces slices along\n",
    "        # the last axis. This is equivalent to data[i,:,:] in this case\n",
    "        for data_slice in data:\n",
    "\n",
    "            # The formatting string indicates that I'm writing out\n",
    "            # the values in left-justified columns 7 characters in width\n",
    "            # with 2 decimal places.  \n",
    "            np.savetxt(outfile, data_slice, fmt='%-7.2f')\n",
    "\n",
    "            # Writing out a break to indicate different slices...\n",
    "            outfile.write('# New slice\\n')"
   ]
  },
  {
   "cell_type": "code",
   "execution_count": 56,
   "metadata": {},
   "outputs": [],
   "source": [
    "path = '/Volumes/Saksham - HD/Project/CNN_Pkl/X_solo_100msSTFT_1/'\n",
    "save_txt(X_solo_100msSTFT_1_v1, path + 'X_solo_100msSTFT_1_v1.txt')"
   ]
  },
  {
   "cell_type": "code",
   "execution_count": 61,
   "metadata": {},
   "outputs": [
    {
     "ename": "OSError",
     "evalue": "[Errno 22] Invalid argument",
     "output_type": "error",
     "traceback": [
      "\u001b[0;31m---------------------------------------------------------------------------\u001b[0m",
      "\u001b[0;31mOSError\u001b[0m                                   Traceback (most recent call last)",
      "\u001b[0;32m<ipython-input-61-461501ad4134>\u001b[0m in \u001b[0;36m<module>\u001b[0;34m()\u001b[0m\n\u001b[1;32m      1\u001b[0m \u001b[0mpath\u001b[0m \u001b[0;34m=\u001b[0m \u001b[0;34m'/Volumes/Saksham - HD/Project/CNN_Pkl/X_solo_100msSTFT_1/'\u001b[0m\u001b[0;34m\u001b[0m\u001b[0m\n\u001b[0;32m----> 2\u001b[0;31m \u001b[0msave_pkl\u001b[0m\u001b[0;34m(\u001b[0m\u001b[0mX_solo_100msSTFT_1_v1\u001b[0m\u001b[0;34m,\u001b[0m\u001b[0mpath\u001b[0m \u001b[0;34m+\u001b[0m \u001b[0;34m'X_solo_100msSTFT_1_v1.pkl'\u001b[0m\u001b[0;34m)\u001b[0m\u001b[0;34m\u001b[0m\u001b[0m\n\u001b[0m",
      "\u001b[0;32m<ipython-input-2-b0393661d9a3>\u001b[0m in \u001b[0;36msave_pkl\u001b[0;34m(data, output_filename)\u001b[0m\n\u001b[1;32m      9\u001b[0m \u001b[0;32mdef\u001b[0m \u001b[0msave_pkl\u001b[0m\u001b[0;34m(\u001b[0m\u001b[0mdata\u001b[0m\u001b[0;34m,\u001b[0m \u001b[0moutput_filename\u001b[0m\u001b[0;34m)\u001b[0m\u001b[0;34m:\u001b[0m\u001b[0;34m\u001b[0m\u001b[0m\n\u001b[1;32m     10\u001b[0m     \u001b[0moutput\u001b[0m \u001b[0;34m=\u001b[0m \u001b[0mopen\u001b[0m\u001b[0;34m(\u001b[0m\u001b[0moutput_filename\u001b[0m\u001b[0;34m,\u001b[0m \u001b[0;34m'wb'\u001b[0m\u001b[0;34m)\u001b[0m\u001b[0;34m\u001b[0m\u001b[0m\n\u001b[0;32m---> 11\u001b[0;31m     \u001b[0mpickle\u001b[0m\u001b[0;34m.\u001b[0m\u001b[0mdump\u001b[0m\u001b[0;34m(\u001b[0m\u001b[0mdata\u001b[0m\u001b[0;34m,\u001b[0m \u001b[0moutput\u001b[0m\u001b[0;34m)\u001b[0m\u001b[0;34m\u001b[0m\u001b[0m\n\u001b[0m\u001b[1;32m     12\u001b[0m     \u001b[0moutput\u001b[0m\u001b[0;34m.\u001b[0m\u001b[0mclose\u001b[0m\u001b[0;34m(\u001b[0m\u001b[0;34m)\u001b[0m\u001b[0;34m\u001b[0m\u001b[0m\n\u001b[1;32m     13\u001b[0m \u001b[0;34m\u001b[0m\u001b[0m\n",
      "\u001b[0;31mOSError\u001b[0m: [Errno 22] Invalid argument"
     ]
    }
   ],
   "source": [
    "path = '/Volumes/Saksham - HD/Project/CNN_Pkl/X_solo_100msSTFT_1/'\n",
    "save_pkl(X_solo_100msSTFT_1_v1,path + 'X_solo_100msSTFT_1_v1.pkl')"
   ]
  },
  {
   "cell_type": "code",
   "execution_count": 57,
   "metadata": {},
   "outputs": [],
   "source": [
    "new_data = np.loadtxt(path + 'X_solo_100msSTFT_1_v1.txt')"
   ]
  },
  {
   "cell_type": "code",
   "execution_count": 58,
   "metadata": {},
   "outputs": [
    {
     "name": "stdout",
     "output_type": "stream",
     "text": [
      "(9093800, 101)\n"
     ]
    }
   ],
   "source": [
    "print (new_data.shape)"
   ]
  },
  {
   "cell_type": "code",
   "execution_count": 59,
   "metadata": {},
   "outputs": [
    {
     "ename": "UnpicklingError",
     "evalue": "invalid load key, '#'.",
     "output_type": "error",
     "traceback": [
      "\u001b[0;31m---------------------------------------------------------------------------\u001b[0m",
      "\u001b[0;31mUnpicklingError\u001b[0m                           Traceback (most recent call last)",
      "\u001b[0;32m<ipython-input-59-709a773569e0>\u001b[0m in \u001b[0;36m<module>\u001b[0;34m()\u001b[0m\n\u001b[0;32m----> 1\u001b[0;31m \u001b[0mdata\u001b[0m \u001b[0;34m=\u001b[0m \u001b[0mread_pkl\u001b[0m\u001b[0;34m(\u001b[0m\u001b[0mpath\u001b[0m \u001b[0;34m+\u001b[0m \u001b[0;34m'X_solo_100msSTFT_1_v1.pkl'\u001b[0m\u001b[0;34m)\u001b[0m\u001b[0;34m\u001b[0m\u001b[0m\n\u001b[0m",
      "\u001b[0;32m<ipython-input-2-b0393661d9a3>\u001b[0m in \u001b[0;36mread_pkl\u001b[0;34m(filename)\u001b[0m\n\u001b[1;32m     14\u001b[0m \u001b[0;32mdef\u001b[0m \u001b[0mread_pkl\u001b[0m\u001b[0;34m(\u001b[0m\u001b[0mfilename\u001b[0m\u001b[0;34m)\u001b[0m\u001b[0;34m:\u001b[0m\u001b[0;34m\u001b[0m\u001b[0m\n\u001b[1;32m     15\u001b[0m     \u001b[0mpkl_file\u001b[0m \u001b[0;34m=\u001b[0m \u001b[0mopen\u001b[0m\u001b[0;34m(\u001b[0m\u001b[0mfilename\u001b[0m\u001b[0;34m,\u001b[0m \u001b[0;34m'rb'\u001b[0m\u001b[0;34m)\u001b[0m\u001b[0;34m\u001b[0m\u001b[0m\n\u001b[0;32m---> 16\u001b[0;31m     \u001b[0mdata\u001b[0m \u001b[0;34m=\u001b[0m \u001b[0mpickle\u001b[0m\u001b[0;34m.\u001b[0m\u001b[0mload\u001b[0m\u001b[0;34m(\u001b[0m\u001b[0mpkl_file\u001b[0m\u001b[0;34m)\u001b[0m\u001b[0;34m\u001b[0m\u001b[0m\n\u001b[0m\u001b[1;32m     17\u001b[0m     \u001b[0mpkl_file\u001b[0m\u001b[0;34m.\u001b[0m\u001b[0mclose\u001b[0m\u001b[0;34m(\u001b[0m\u001b[0;34m)\u001b[0m\u001b[0;34m\u001b[0m\u001b[0m\n\u001b[1;32m     18\u001b[0m     \u001b[0;32mreturn\u001b[0m \u001b[0mdata\u001b[0m\u001b[0;34m\u001b[0m\u001b[0m\n",
      "\u001b[0;31mUnpicklingError\u001b[0m: invalid load key, '#'."
     ]
    }
   ],
   "source": [
    "data = read_pkl(path + 'X_solo_100msSTFT_1_v1.pkl')"
   ]
  },
  {
   "cell_type": "code",
   "execution_count": null,
   "metadata": {},
   "outputs": [],
   "source": [
    "data.shape"
   ]
  },
  {
   "cell_type": "code",
   "execution_count": null,
   "metadata": {},
   "outputs": [],
   "source": [
    "print (len(data))\n",
    "print (len(data[0]))"
   ]
  },
  {
   "cell_type": "code",
   "execution_count": null,
   "metadata": {},
   "outputs": [],
   "source": [
    "# STFT for 2s solo clips\n",
    "X_solo_100msSTFT_2 = gen_STFT(solo_clips_2, n_fft_1, w_1, hop_length)\n",
    "X_solo_50msSTFT_2 = gen_STFT(solo_clips_2, n_fft_2, w_2, hop_length)"
   ]
  },
  {
   "cell_type": "code",
   "execution_count": null,
   "metadata": {},
   "outputs": [],
   "source": [
    "# STFT for 3s solo clips\n",
    "X_solo_100msSTFT_3 = gen_STFT(solo_clips_3, n_fft_1, w_1, hop_length)\n",
    "X_solo_50msSTFT_3 = gen_STFT(solo_clips_3, n_fft_2, w_2, hop_length)"
   ]
  },
  {
   "cell_type": "code",
   "execution_count": null,
   "metadata": {},
   "outputs": [],
   "source": [
    "# STFT for 4s solo clips\n",
    "X_solo_100msSTFT_4 = gen_STFT(solo_clips_4, n_fft_1, w_1, hop_length)\n",
    "X_solo_50msSTFT_4 = gen_STFT(solo_clips_4, n_fft_2, w_2, hop_length)"
   ]
  },
  {
   "cell_type": "code",
   "execution_count": null,
   "metadata": {},
   "outputs": [],
   "source": [
    "# STFT for 5s solo clips\n",
    "X_solo_100msSTFT_5 = gen_STFT(solo_clips_5, n_fft_1, w_1, hop_length)\n",
    "X_solo_50msSTFT_5 = gen_STFT(solo_clips_5, n_fft_2, w_2, hop_length)"
   ]
  },
  {
   "cell_type": "markdown",
   "metadata": {},
   "source": [
    "<font size = 3> MelSpectrogram (Solo)"
   ]
  },
  {
   "cell_type": "code",
   "execution_count": null,
   "metadata": {},
   "outputs": [],
   "source": [
    "# MelSpectrogram for 1s solo clips\n",
    "X_solo_100msMelSpect_1 = gen_MelSpectrogram(solo_clips_1, n_fft_1, sr, hop_length)\n",
    "X_solo_50msMelSpect_1 = gen_MelSpectrogram(solo_clips_1, n_fft_2, sr, hop_length)"
   ]
  },
  {
   "cell_type": "code",
   "execution_count": null,
   "metadata": {},
   "outputs": [],
   "source": [
    "# MelSpectrogram for 2s solo clips\n",
    "X_solo_100msMelSpect_2 = gen_MelSpectrogram(solo_clips_2, n_fft_1, sr, hop_length)\n",
    "X_solo_50msMelSpect_2 = gen_MelSpectrogram(solo_clips_2, n_fft_2, sr, hop_length)"
   ]
  },
  {
   "cell_type": "code",
   "execution_count": null,
   "metadata": {},
   "outputs": [],
   "source": [
    "# MelSpectrogram for 3s solo clips\n",
    "X_solo_100msMelSpect_3 = gen_MelSpectrogram(solo_clips_3, n_fft_1, sr, hop_length)\n",
    "X_solo_50msMelSpect_3 = gen_MelSpectrogram(solo_clips_3, n_fft_2, sr, hop_length)"
   ]
  },
  {
   "cell_type": "code",
   "execution_count": null,
   "metadata": {},
   "outputs": [],
   "source": [
    "# MelSpectrogram for 4s solo clips\n",
    "X_solo_100msMelSpect_4 = gen_MelSpectrogram(solo_clips_4, n_fft_1, sr, hop_length)\n",
    "X_solo_50msMelSpect_4 = gen_MelSpectrogram(solo_clips_4, n_fft_2, sr, hop_length)"
   ]
  },
  {
   "cell_type": "code",
   "execution_count": null,
   "metadata": {},
   "outputs": [],
   "source": [
    "# MelSpectrogram for 5s solo clips\n",
    "X_solo_100msMelSpect_5 = gen_MelSpectrogram(solo_clips_5, n_fft_1, sr, hop_length)\n",
    "X_solo_50msMelSpect_5 = gen_MelSpectrogram(solo_clips_5, n_fft_2, sr, hop_length)"
   ]
  },
  {
   "cell_type": "markdown",
   "metadata": {},
   "source": [
    "<font size = 3> STFT (Comp)"
   ]
  },
  {
   "cell_type": "code",
   "execution_count": null,
   "metadata": {},
   "outputs": [],
   "source": [
    "# STFT for 1s comp clips\n",
    "X_comp_100msSTFT_1 = gen_STFT(comp_clips_1, n_fft_1, w_1, hop_length)\n",
    "X_comp_50msSTFT_1 = gen_STFT(comp_clips_1, n_fft_2, w_2, hop_length)"
   ]
  },
  {
   "cell_type": "code",
   "execution_count": null,
   "metadata": {},
   "outputs": [],
   "source": [
    "save_pkl(X_comp_100msSTFT_1, 'X_comp_100msSTFT_1.pkl')\n",
    "save_pkl(X_comp_50msSTFT_1, 'X_comp_50msSTFT_1.pkl')"
   ]
  },
  {
   "cell_type": "code",
   "execution_count": null,
   "metadata": {},
   "outputs": [],
   "source": [
    "# STFT for 2s comp clips\n",
    "X_comp_100msSTFT_2 = gen_STFT(comp_clips_2, n_fft_1, w_1, hop_length)\n",
    "X_comp_50msSTFT_2 = gen_STFT(comp_clips_2, n_fft_2, w_2, hop_length)"
   ]
  },
  {
   "cell_type": "code",
   "execution_count": null,
   "metadata": {},
   "outputs": [],
   "source": [
    "# STFT for 3s comp clips\n",
    "X_comp_100msSTFT_3 = gen_STFT(comp_clips_3, n_fft_1, w_1, hop_length)\n",
    "X_comp_50msSTFT_3 = gen_STFT(comp_clips_3, n_fft_2, w_2, hop_length)"
   ]
  },
  {
   "cell_type": "code",
   "execution_count": null,
   "metadata": {},
   "outputs": [],
   "source": [
    "# STFT for 4s comp clips\n",
    "X_comp_100msSTFT_4 = gen_STFT(comp_clips_4, n_fft_1, w_1, hop_length)\n",
    "X_comp_50msSTFT_4 = gen_STFT(comp_clips_4, n_fft_2, w_2, hop_length)"
   ]
  },
  {
   "cell_type": "code",
   "execution_count": null,
   "metadata": {},
   "outputs": [],
   "source": [
    "# STFT for 5s comp clips\n",
    "X_comp_100msSTFT_5 = gen_STFT(comp_clips_5, n_fft_1, w_1, hop_length)\n",
    "X_comp_50msSTFT_5 = gen_STFT(comp_clips_5, n_fft_2, w_2, hop_length)"
   ]
  },
  {
   "cell_type": "markdown",
   "metadata": {},
   "source": [
    "<font size = 3> MelSpectrogram (Comp)"
   ]
  },
  {
   "cell_type": "code",
   "execution_count": null,
   "metadata": {},
   "outputs": [],
   "source": [
    "# MelSpectrogram for 1s comp clips\n",
    "X_comp_100msMelSpect_1 = gen_MelSpectrogram(comp_clips_1, n_fft_1, sr, hop_length)\n",
    "X_comp_50msMelSpect_1 = gen_MelSpectrogram(comp_clips_1, n_fft_2, sr, hop_length)"
   ]
  },
  {
   "cell_type": "code",
   "execution_count": null,
   "metadata": {},
   "outputs": [],
   "source": [
    "# MelSpectrogram for 2s comp clips\n",
    "X_comp_100msMelSpect_2 = gen_MelSpectrogram(comp_clips_2, n_fft_1, sr, hop_length)\n",
    "X_comp_50msMelSpect_2 = gen_MelSpectrogram(comp_clips_2, n_fft_2, sr, hop_length)"
   ]
  },
  {
   "cell_type": "code",
   "execution_count": null,
   "metadata": {},
   "outputs": [],
   "source": [
    "# MelSpectrogram for 3s comp clips\n",
    "X_comp_100msMelSpect_3 = gen_MelSpectrogram(comp_clips_3, n_fft_1, sr, hop_length)\n",
    "X_comp_50msMelSpect_3 = gen_MelSpectrogram(comp_clips_3, n_fft_2, sr, hop_length)"
   ]
  },
  {
   "cell_type": "code",
   "execution_count": null,
   "metadata": {},
   "outputs": [],
   "source": [
    "# MelSpectrogram for 4s comp clips\n",
    "X_comp_100msMelSpect_4 = gen_MelSpectrogram(comp_clips_4, n_fft_1, sr, hop_length)\n",
    "X_comp_50msMelSpect_4 = gen_MelSpectrogram(comp_clips_4, n_fft_2, sr, hop_length)"
   ]
  },
  {
   "cell_type": "code",
   "execution_count": null,
   "metadata": {},
   "outputs": [],
   "source": [
    "# MelSpectrogram for 5s comp clips\n",
    "X_comp_100msMelSpect_5 = gen_MelSpectrogram(comp_clips_5, n_fft_1, sr, hop_length)\n",
    "X_comp_50msMelSpect_5 = gen_MelSpectrogram(comp_clips_5, n_fft_2, sr, hop_length)"
   ]
  },
  {
   "cell_type": "markdown",
   "metadata": {},
   "source": [
    "<font size = 4> <b> Data Preparation"
   ]
  },
  {
   "cell_type": "code",
   "execution_count": null,
   "metadata": {},
   "outputs": [],
   "source": [
    "print (X_solo_100msSTFT_1.shape)\n",
    "print (X_solo_50msSTFT_1.shape)"
   ]
  },
  {
   "cell_type": "code",
   "execution_count": null,
   "metadata": {},
   "outputs": [],
   "source": [
    "len(solo_labels_1)"
   ]
  },
  {
   "cell_type": "code",
   "execution_count": null,
   "metadata": {},
   "outputs": [],
   "source": []
  },
  {
   "cell_type": "code",
   "execution_count": null,
   "metadata": {},
   "outputs": [],
   "source": [
    "# pkl_file = open('data.pkl', 'rb')\n",
    "\n",
    "# data1 = pickle.load(pkl_file)\n",
    "# pprint.pprint(data1)\n",
    "\n",
    "# pkl_file.close()"
   ]
  },
  {
   "cell_type": "code",
   "execution_count": null,
   "metadata": {},
   "outputs": [],
   "source": [
    "save_pkl(X_solo_100msSTFT_1, 'X_solo_100msSTFT_1.pkl')"
   ]
  },
  {
   "cell_type": "code",
   "execution_count": null,
   "metadata": {},
   "outputs": [],
   "source": [
    "data = read_pkl('X_solo_100msSTFT_1.pkl')"
   ]
  },
  {
   "cell_type": "code",
   "execution_count": null,
   "metadata": {},
   "outputs": [],
   "source": [
    "data.shape"
   ]
  },
  {
   "cell_type": "code",
   "execution_count": null,
   "metadata": {},
   "outputs": [],
   "source": []
  }
 ],
 "metadata": {
  "kernelspec": {
   "display_name": "Python 3",
   "language": "python",
   "name": "python3"
  },
  "language_info": {
   "codemirror_mode": {
    "name": "ipython",
    "version": 3
   },
   "file_extension": ".py",
   "mimetype": "text/x-python",
   "name": "python",
   "nbconvert_exporter": "python",
   "pygments_lexer": "ipython3",
   "version": "3.6.8"
  }
 },
 "nbformat": 4,
 "nbformat_minor": 2
}
